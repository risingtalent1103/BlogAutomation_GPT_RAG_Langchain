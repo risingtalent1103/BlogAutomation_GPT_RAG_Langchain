{
 "cells": [
  {
   "cell_type": "code",
   "execution_count": 17,
   "metadata": {},
   "outputs": [],
   "source": [
    "from dotenv import load_dotenv\n",
    "from langchain.chains import LLMChain, SimpleSequentialChain\n",
    "from ecrivai.prompt_templates import content_prompt, topic_prompt\n",
    "from ecrivai.write import to_markdown\n",
    "from langchain_google_genai import GoogleGenerativeAI\n"
   ]
  },
  {
   "cell_type": "code",
   "execution_count": 2,
   "metadata": {},
   "outputs": [
    {
     "data": {
      "text/plain": [
       "True"
      ]
     },
     "execution_count": 2,
     "metadata": {},
     "output_type": "execute_result"
    }
   ],
   "source": [
    "load_dotenv()"
   ]
  },
  {
   "cell_type": "code",
   "execution_count": 4,
   "metadata": {},
   "outputs": [],
   "source": [
    "# set up some parameters of the LLM\n",
    "content_llm_kwargs = {\n",
    "    \"temperature\": 0.7,\n",
    "    \"model\": \"gemini-pro\",\n",
    "    \"max_output_tokens\": 1500 # ~ 1125 words\n",
    "}\n",
    "\n",
    "topic_llm_kwargs = {\n",
    "    \"temperature\": 0.7,\n",
    "    \"model\": \"gemini-pro\",\n",
    "    \"max_output_tokens\": 50 # ~ 38words\n",
    "}"
   ]
  },
  {
   "cell_type": "code",
   "execution_count": 5,
   "metadata": {},
   "outputs": [],
   "source": [
    "# create LLMs with kwargs specified above\n",
    "content_llm = GoogleGenerativeAI(**content_llm_kwargs)\n",
    "topic_llm = GoogleGenerativeAI(**topic_llm_kwargs)"
   ]
  },
  {
   "cell_type": "code",
   "execution_count": 13,
   "metadata": {},
   "outputs": [],
   "source": [
    "# chain it all together\n",
    "topic_chain = LLMChain(llm=topic_llm, prompt=topic_prompt)\n",
    "content_chain = LLMChain(llm=content_llm, prompt=content_prompt)\n",
    "\n",
    "chain = SimpleSequentialChain(\n",
    "    chains=[\n",
    "        topic_chain,\n",
    "        content_chain\n",
    "    ],\n",
    "    verbose=True\n",
    ")"
   ]
  },
  {
   "cell_type": "code",
   "execution_count": 14,
   "metadata": {},
   "outputs": [
    {
     "name": "stdout",
     "output_type": "stream",
     "text": [
      "\n",
      "\n",
      "\u001b[1m> Entering new SimpleSequentialChain chain...\u001b[0m\n",
      "\u001b[36;1m\u001b[1;3mThe Fascinating History of Artificial Intelligence\u001b[0m\n",
      "\u001b[33;1m\u001b[1;3m# The Fascinating History of Artificial Intelligence\n",
      "\n",
      "## Introduction\n",
      "\n",
      "Artificial intelligence (AI) has become a ubiquitous part of our lives. From the smartphones in our pockets to the self-driving cars on our roads, AI is revolutionizing the way we live, work, and interact with the world around us. But how did AI come to be? Let's take a journey through the fascinating history of AI, from its early roots to its current state-of-the-art capabilities.\n",
      "\n",
      "## The Early Days of AI\n",
      "\n",
      "The concept of artificial intelligence can be traced back to ancient times, with philosophers and scientists pondering the possibility of creating machines that could think and act like humans. However, it wasn't until the mid-20th century that AI began to take shape as a field of study. In 1950, Alan Turing published his seminal paper \"Computing Machinery and Intelligence,\" which proposed the Turing test as a way to measure a machine's ability to exhibit intelligent behavior. This paper sparked a surge of interest in AI research, and the field quickly began to grow.\n",
      "\n",
      "## The First AI Programs\n",
      "\n",
      "In the 1950s and 1960s, researchers developed the first AI programs, such as the Logic Theorist and the General Problem Solver. These programs were able to solve simple problems using logical reasoning and search algorithms. However, they were still very limited in their capabilities and could only handle a narrow range of tasks.\n",
      "\n",
      "## The Rise of Machine Learning\n",
      "\n",
      "In the 1970s, a new approach to AI emerged known as machine learning. Machine learning algorithms allow computers to learn from data without being explicitly programmed. This led to a significant breakthrough in AI research, as it enabled computers to solve problems that were previously impossible for them to tackle.\n",
      "\n",
      "## The Modern Era of AI\n",
      "\n",
      "In the 21st century, AI has experienced a rapid acceleration in development. The availability of massive amounts of data, the increasing computational power of computers, and the development of new algorithms have all contributed to the rise of modern AI. Today, AI is used in a wide range of applications, including image recognition, natural language processing, speech recognition, and robotics.\n",
      "\n",
      "## The Future of AI\n",
      "\n",
      "The future of AI is both exciting and uncertain. On the one hand, AI has the potential to solve some of the world's most pressing problems, such as climate change, disease, and poverty. On the other hand, there are also concerns about the potential risks of AI, such as job displacement, autonomous weapons, and the loss of human control.\n",
      "\n",
      "## Conclusion\n",
      "\n",
      "The history of AI is a fascinating journey that has taken us from the early dreams of philosophers to the powerful AI systems of today. As AI continues to evolve, it is important to consider the potential benefits and risks of this technology and to work towards a future where AI is used for the betterment of humanity.\u001b[0m\n",
      "\n",
      "\u001b[1m> Finished chain.\u001b[0m\n"
     ]
    }
   ],
   "source": [
    "blog_text = chain.run(\"\")"
   ]
  },
  {
   "cell_type": "code",
   "execution_count": 18,
   "metadata": {},
   "outputs": [
    {
     "name": "stderr",
     "output_type": "stream",
     "text": [
      "2023-12-26 14:25:30,400 [INFO] Writing blog text to Markdown file\n"
     ]
    },
    {
     "data": {
      "text/plain": [
       "'202312261425.md'"
      ]
     },
     "execution_count": 18,
     "metadata": {},
     "output_type": "execute_result"
    }
   ],
   "source": [
    "to_markdown(blog_text, out_dir=\"../content/\")"
   ]
  }
 ],
 "metadata": {
  "kernelspec": {
   "display_name": "langchain",
   "language": "python",
   "name": "python3"
  },
  "language_info": {
   "codemirror_mode": {
    "name": "ipython",
    "version": 3
   },
   "file_extension": ".py",
   "mimetype": "text/x-python",
   "name": "python",
   "nbconvert_exporter": "python",
   "pygments_lexer": "ipython3",
   "version": "3.12.0"
  },
  "orig_nbformat": 4
 },
 "nbformat": 4,
 "nbformat_minor": 2
}
